{
  "nbformat": 4,
  "nbformat_minor": 0,
  "metadata": {
    "colab": {
      "provenance": []
    },
    "kernelspec": {
      "name": "python3",
      "display_name": "Python 3"
    },
    "accelerator": "TPU"
  },
  "cells": [
    {
      "cell_type": "code",
      "metadata": {
        "id": "1b-DDlXJMsM1"
      },
      "source": [
        "import os\n",
        "import numpy as np\n",
        "import matplotlib.pyplot as plt\n",
        "import seaborn as sns\n",
        "import pandas as pd\n",
        "import glob\n",
        "import tensorflow as tf\n",
        "from PIL import Image\n",
        "from keras.models import Sequential\n",
        "from keras.layers import Dense\n",
        "from keras.layers import LSTM\n",
        "from keras.layers import Dropout\n",
        "from keras.layers import Conv2D\n",
        "from keras.layers import Conv1D\n",
        "from keras.layers import MaxPooling3D\n",
        "from keras.layers import MaxPooling2D\n",
        "from keras.layers import Flatten\n",
        "from keras.layers import TimeDistributed\n",
        "from keras.layers import Lambda\n",
        "from keras.layers import Reshape\n",
        "from keras.layers import BatchNormalization\n",
        "from keras.layers import GRU\n",
        "from keras.layers import AveragePooling2D\n",
        "\n",
        "from sklearn.preprocessing import MinMaxScaler, StandardScaler\n",
        "from sklearn.metrics import r2_score, mean_absolute_error\n",
        "from sklearn.metrics import mean_squared_error\n",
        "from sklearn.model_selection import train_test_split\n",
        "import keras.optimizers as ops"
      ],
      "execution_count": 2,
      "outputs": []
    },
    {
      "cell_type": "code",
      "metadata": {
        "id": "Xrkuq4keSKLa"
      },
      "source": [
        "#creation de la fonction qui va traiter les donnees\n",
        "def reg_data(df):\n",
        "    df = df.drop(df.index[[0,1,2]])\n",
        "    df = df.drop('MW', axis=1)\n",
        "    df.columns = ['Date', 'From', 'to', 'MW']\n",
        "\n",
        "    dates = df['Date'].tolist()\n",
        "    days = []\n",
        "    months = []\n",
        "    years = []\n",
        "    for date in dates:\n",
        "        days.append(date.split('.')[0])\n",
        "        months.append(date.split('.')[1])\n",
        "        years.append(date.split('.')[2])\n",
        "\n",
        "    df['Day'] = days\n",
        "    df['Month'] = months\n",
        "    df['Year'] = years\n",
        "\n",
        "    def fixMW(cols):\n",
        "        TT = cols\n",
        "        TT = TT.replace('.','')\n",
        "        TT = TT.replace(',','.')\n",
        "        return TT\n",
        "\n",
        "    df['MW'] = df['MW'].apply(fixMW).astype(float)\n",
        "    df['Day'] = df['Day'].astype(int)\n",
        "    df['Month'] = df['Month'].astype(int)\n",
        "    df['Year'] = df['Year'].astype(int)\n",
        "\n",
        "    df = df.groupby(['Day','Month','Year'])['MW'].sum()\n",
        "    df = pd.DataFrame(df)\n",
        "    df['Month'] = df.index.get_level_values('Month')\n",
        "    df['Day'] = df.index.get_level_values('Day')\n",
        "    df['Year'] = df.index.get_level_values('Year')\n",
        "    df.reset_index(drop=True, inplace=True)\n",
        "    return df\n",
        "\n",
        "#appel de la fonction reg_data\n",
        "\n",
        "\n",
        "Data_10 = pd.read_csv('https://ws.50hertz.com/web02/api/PhotovoltaicActual/DownloadFile?fileName=2010.csv',sep=';')\n",
        "Data_10 = reg_data(Data_10)\n",
        "\n",
        "Data_11 = pd.read_csv('https://ws.50hertz.com/web02/api/PhotovoltaicActual/DownloadFile?fileName=2011.csv',sep=';')\n",
        "Data_11 = reg_data(Data_11)\n",
        "\n",
        "Data_12 = pd.read_csv('https://ws.50hertz.com/web02/api/PhotovoltaicActual/DownloadFile?fileName=2012.csv',sep=';')\n",
        "Data_12 = reg_data(Data_12)\n",
        "\n",
        "Data_13 = pd.read_csv('https://ws.50hertz.com/web02/api/PhotovoltaicActual/DownloadFile?fileName=2013.csv',sep=';')\n",
        "Data_13 = reg_data(Data_13)\n",
        "\n",
        "Data_14 = pd.read_csv('https://ws.50hertz.com/web02/api/PhotovoltaicActual/DownloadFile?fileName=2014.csv',sep=';')\n",
        "Data_14 = reg_data(Data_14)\n",
        "Data_15 = pd.read_csv('https://ws.50hertz.com/web02/api/PhotovoltaicActual/DownloadFile?fileName=2015.csv',sep=';')\n",
        "Data_15 = reg_data(Data_15)\n",
        "\n",
        "Data_16 = pd.read_csv('https://ws.50hertz.com/web02/api/PhotovoltaicActual/DownloadFile?fileName=2016.csv',sep=';')\n",
        "Data_16 = reg_data(Data_16)\n",
        "\n",
        "Data_17 = pd.read_csv('https://ws.50hertz.com/web02/api/PhotovoltaicActual/DownloadFile?fileName=2017.csv',sep=';')\n",
        "Data_17 = reg_data(Data_17)\n",
        "\n",
        "\n",
        "\n",
        "\n",
        "\n",
        "#concatener tout les donnees dans une seule DataFrame\n",
        "DataFrame = pd.concat([ Data_10, Data_11, Data_12, Data_13,Data_14, Data_15, Data_16, Data_17], ignore_index=True)\n"
      ],
      "execution_count": 3,
      "outputs": []
    },
    {
      "cell_type": "code",
      "metadata": {
        "id": "AF5uIxxOyzdl",
        "outputId": "b94b7129-1468-40c5-d9c0-7e581c3e1803",
        "colab": {
          "base_uri": "https://localhost:8080/",
          "height": 206
        }
      },
      "source": [
        "DataFrame.head()"
      ],
      "execution_count": 4,
      "outputs": [
        {
          "output_type": "execute_result",
          "data": {
            "text/plain": [
              "        MW  Month  Day  Year\n",
              "0    332.0      1    1  2010\n",
              "1   1898.0      2    1  2010\n",
              "2   2764.0      3    1  2010\n",
              "3  12736.0      4    1  2010\n",
              "4   8870.0      5    1  2010"
            ],
            "text/html": [
              "\n",
              "  <div id=\"df-30ab6951-5e69-45ae-b6d9-9d676ee33b00\" class=\"colab-df-container\">\n",
              "    <div>\n",
              "<style scoped>\n",
              "    .dataframe tbody tr th:only-of-type {\n",
              "        vertical-align: middle;\n",
              "    }\n",
              "\n",
              "    .dataframe tbody tr th {\n",
              "        vertical-align: top;\n",
              "    }\n",
              "\n",
              "    .dataframe thead th {\n",
              "        text-align: right;\n",
              "    }\n",
              "</style>\n",
              "<table border=\"1\" class=\"dataframe\">\n",
              "  <thead>\n",
              "    <tr style=\"text-align: right;\">\n",
              "      <th></th>\n",
              "      <th>MW</th>\n",
              "      <th>Month</th>\n",
              "      <th>Day</th>\n",
              "      <th>Year</th>\n",
              "    </tr>\n",
              "  </thead>\n",
              "  <tbody>\n",
              "    <tr>\n",
              "      <th>0</th>\n",
              "      <td>332.0</td>\n",
              "      <td>1</td>\n",
              "      <td>1</td>\n",
              "      <td>2010</td>\n",
              "    </tr>\n",
              "    <tr>\n",
              "      <th>1</th>\n",
              "      <td>1898.0</td>\n",
              "      <td>2</td>\n",
              "      <td>1</td>\n",
              "      <td>2010</td>\n",
              "    </tr>\n",
              "    <tr>\n",
              "      <th>2</th>\n",
              "      <td>2764.0</td>\n",
              "      <td>3</td>\n",
              "      <td>1</td>\n",
              "      <td>2010</td>\n",
              "    </tr>\n",
              "    <tr>\n",
              "      <th>3</th>\n",
              "      <td>12736.0</td>\n",
              "      <td>4</td>\n",
              "      <td>1</td>\n",
              "      <td>2010</td>\n",
              "    </tr>\n",
              "    <tr>\n",
              "      <th>4</th>\n",
              "      <td>8870.0</td>\n",
              "      <td>5</td>\n",
              "      <td>1</td>\n",
              "      <td>2010</td>\n",
              "    </tr>\n",
              "  </tbody>\n",
              "</table>\n",
              "</div>\n",
              "    <div class=\"colab-df-buttons\">\n",
              "\n",
              "  <div class=\"colab-df-container\">\n",
              "    <button class=\"colab-df-convert\" onclick=\"convertToInteractive('df-30ab6951-5e69-45ae-b6d9-9d676ee33b00')\"\n",
              "            title=\"Convert this dataframe to an interactive table.\"\n",
              "            style=\"display:none;\">\n",
              "\n",
              "  <svg xmlns=\"http://www.w3.org/2000/svg\" height=\"24px\" viewBox=\"0 -960 960 960\">\n",
              "    <path d=\"M120-120v-720h720v720H120Zm60-500h600v-160H180v160Zm220 220h160v-160H400v160Zm0 220h160v-160H400v160ZM180-400h160v-160H180v160Zm440 0h160v-160H620v160ZM180-180h160v-160H180v160Zm440 0h160v-160H620v160Z\"/>\n",
              "  </svg>\n",
              "    </button>\n",
              "\n",
              "  <style>\n",
              "    .colab-df-container {\n",
              "      display:flex;\n",
              "      gap: 12px;\n",
              "    }\n",
              "\n",
              "    .colab-df-convert {\n",
              "      background-color: #E8F0FE;\n",
              "      border: none;\n",
              "      border-radius: 50%;\n",
              "      cursor: pointer;\n",
              "      display: none;\n",
              "      fill: #1967D2;\n",
              "      height: 32px;\n",
              "      padding: 0 0 0 0;\n",
              "      width: 32px;\n",
              "    }\n",
              "\n",
              "    .colab-df-convert:hover {\n",
              "      background-color: #E2EBFA;\n",
              "      box-shadow: 0px 1px 2px rgba(60, 64, 67, 0.3), 0px 1px 3px 1px rgba(60, 64, 67, 0.15);\n",
              "      fill: #174EA6;\n",
              "    }\n",
              "\n",
              "    .colab-df-buttons div {\n",
              "      margin-bottom: 4px;\n",
              "    }\n",
              "\n",
              "    [theme=dark] .colab-df-convert {\n",
              "      background-color: #3B4455;\n",
              "      fill: #D2E3FC;\n",
              "    }\n",
              "\n",
              "    [theme=dark] .colab-df-convert:hover {\n",
              "      background-color: #434B5C;\n",
              "      box-shadow: 0px 1px 3px 1px rgba(0, 0, 0, 0.15);\n",
              "      filter: drop-shadow(0px 1px 2px rgba(0, 0, 0, 0.3));\n",
              "      fill: #FFFFFF;\n",
              "    }\n",
              "  </style>\n",
              "\n",
              "    <script>\n",
              "      const buttonEl =\n",
              "        document.querySelector('#df-30ab6951-5e69-45ae-b6d9-9d676ee33b00 button.colab-df-convert');\n",
              "      buttonEl.style.display =\n",
              "        google.colab.kernel.accessAllowed ? 'block' : 'none';\n",
              "\n",
              "      async function convertToInteractive(key) {\n",
              "        const element = document.querySelector('#df-30ab6951-5e69-45ae-b6d9-9d676ee33b00');\n",
              "        const dataTable =\n",
              "          await google.colab.kernel.invokeFunction('convertToInteractive',\n",
              "                                                    [key], {});\n",
              "        if (!dataTable) return;\n",
              "\n",
              "        const docLinkHtml = 'Like what you see? Visit the ' +\n",
              "          '<a target=\"_blank\" href=https://colab.research.google.com/notebooks/data_table.ipynb>data table notebook</a>'\n",
              "          + ' to learn more about interactive tables.';\n",
              "        element.innerHTML = '';\n",
              "        dataTable['output_type'] = 'display_data';\n",
              "        await google.colab.output.renderOutput(dataTable, element);\n",
              "        const docLink = document.createElement('div');\n",
              "        docLink.innerHTML = docLinkHtml;\n",
              "        element.appendChild(docLink);\n",
              "      }\n",
              "    </script>\n",
              "  </div>\n",
              "\n",
              "\n",
              "<div id=\"df-d415e476-c16d-4cf6-b05c-6cd5b0ca8e71\">\n",
              "  <button class=\"colab-df-quickchart\" onclick=\"quickchart('df-d415e476-c16d-4cf6-b05c-6cd5b0ca8e71')\"\n",
              "            title=\"Suggest charts\"\n",
              "            style=\"display:none;\">\n",
              "\n",
              "<svg xmlns=\"http://www.w3.org/2000/svg\" height=\"24px\"viewBox=\"0 0 24 24\"\n",
              "     width=\"24px\">\n",
              "    <g>\n",
              "        <path d=\"M19 3H5c-1.1 0-2 .9-2 2v14c0 1.1.9 2 2 2h14c1.1 0 2-.9 2-2V5c0-1.1-.9-2-2-2zM9 17H7v-7h2v7zm4 0h-2V7h2v10zm4 0h-2v-4h2v4z\"/>\n",
              "    </g>\n",
              "</svg>\n",
              "  </button>\n",
              "\n",
              "<style>\n",
              "  .colab-df-quickchart {\n",
              "      --bg-color: #E8F0FE;\n",
              "      --fill-color: #1967D2;\n",
              "      --hover-bg-color: #E2EBFA;\n",
              "      --hover-fill-color: #174EA6;\n",
              "      --disabled-fill-color: #AAA;\n",
              "      --disabled-bg-color: #DDD;\n",
              "  }\n",
              "\n",
              "  [theme=dark] .colab-df-quickchart {\n",
              "      --bg-color: #3B4455;\n",
              "      --fill-color: #D2E3FC;\n",
              "      --hover-bg-color: #434B5C;\n",
              "      --hover-fill-color: #FFFFFF;\n",
              "      --disabled-bg-color: #3B4455;\n",
              "      --disabled-fill-color: #666;\n",
              "  }\n",
              "\n",
              "  .colab-df-quickchart {\n",
              "    background-color: var(--bg-color);\n",
              "    border: none;\n",
              "    border-radius: 50%;\n",
              "    cursor: pointer;\n",
              "    display: none;\n",
              "    fill: var(--fill-color);\n",
              "    height: 32px;\n",
              "    padding: 0;\n",
              "    width: 32px;\n",
              "  }\n",
              "\n",
              "  .colab-df-quickchart:hover {\n",
              "    background-color: var(--hover-bg-color);\n",
              "    box-shadow: 0 1px 2px rgba(60, 64, 67, 0.3), 0 1px 3px 1px rgba(60, 64, 67, 0.15);\n",
              "    fill: var(--button-hover-fill-color);\n",
              "  }\n",
              "\n",
              "  .colab-df-quickchart-complete:disabled,\n",
              "  .colab-df-quickchart-complete:disabled:hover {\n",
              "    background-color: var(--disabled-bg-color);\n",
              "    fill: var(--disabled-fill-color);\n",
              "    box-shadow: none;\n",
              "  }\n",
              "\n",
              "  .colab-df-spinner {\n",
              "    border: 2px solid var(--fill-color);\n",
              "    border-color: transparent;\n",
              "    border-bottom-color: var(--fill-color);\n",
              "    animation:\n",
              "      spin 1s steps(1) infinite;\n",
              "  }\n",
              "\n",
              "  @keyframes spin {\n",
              "    0% {\n",
              "      border-color: transparent;\n",
              "      border-bottom-color: var(--fill-color);\n",
              "      border-left-color: var(--fill-color);\n",
              "    }\n",
              "    20% {\n",
              "      border-color: transparent;\n",
              "      border-left-color: var(--fill-color);\n",
              "      border-top-color: var(--fill-color);\n",
              "    }\n",
              "    30% {\n",
              "      border-color: transparent;\n",
              "      border-left-color: var(--fill-color);\n",
              "      border-top-color: var(--fill-color);\n",
              "      border-right-color: var(--fill-color);\n",
              "    }\n",
              "    40% {\n",
              "      border-color: transparent;\n",
              "      border-right-color: var(--fill-color);\n",
              "      border-top-color: var(--fill-color);\n",
              "    }\n",
              "    60% {\n",
              "      border-color: transparent;\n",
              "      border-right-color: var(--fill-color);\n",
              "    }\n",
              "    80% {\n",
              "      border-color: transparent;\n",
              "      border-right-color: var(--fill-color);\n",
              "      border-bottom-color: var(--fill-color);\n",
              "    }\n",
              "    90% {\n",
              "      border-color: transparent;\n",
              "      border-bottom-color: var(--fill-color);\n",
              "    }\n",
              "  }\n",
              "</style>\n",
              "\n",
              "  <script>\n",
              "    async function quickchart(key) {\n",
              "      const quickchartButtonEl =\n",
              "        document.querySelector('#' + key + ' button');\n",
              "      quickchartButtonEl.disabled = true;  // To prevent multiple clicks.\n",
              "      quickchartButtonEl.classList.add('colab-df-spinner');\n",
              "      try {\n",
              "        const charts = await google.colab.kernel.invokeFunction(\n",
              "            'suggestCharts', [key], {});\n",
              "      } catch (error) {\n",
              "        console.error('Error during call to suggestCharts:', error);\n",
              "      }\n",
              "      quickchartButtonEl.classList.remove('colab-df-spinner');\n",
              "      quickchartButtonEl.classList.add('colab-df-quickchart-complete');\n",
              "    }\n",
              "    (() => {\n",
              "      let quickchartButtonEl =\n",
              "        document.querySelector('#df-d415e476-c16d-4cf6-b05c-6cd5b0ca8e71 button');\n",
              "      quickchartButtonEl.style.display =\n",
              "        google.colab.kernel.accessAllowed ? 'block' : 'none';\n",
              "    })();\n",
              "  </script>\n",
              "</div>\n",
              "\n",
              "    </div>\n",
              "  </div>\n"
            ],
            "application/vnd.google.colaboratory.intrinsic+json": {
              "type": "dataframe",
              "variable_name": "DataFrame",
              "summary": "{\n  \"name\": \"DataFrame\",\n  \"rows\": 2922,\n  \"fields\": [\n    {\n      \"column\": \"MW\",\n      \"properties\": {\n        \"dtype\": \"number\",\n        \"std\": 58126.32855664419,\n        \"min\": 33.0,\n        \"max\": 251719.0,\n        \"num_unique_values\": 2900,\n        \"samples\": [\n          8799.0,\n          104120.0,\n          36561.0\n        ],\n        \"semantic_type\": \"\",\n        \"description\": \"\"\n      }\n    },\n    {\n      \"column\": \"Month\",\n      \"properties\": {\n        \"dtype\": \"number\",\n        \"std\": 3,\n        \"min\": 1,\n        \"max\": 12,\n        \"num_unique_values\": 12,\n        \"samples\": [\n          11,\n          10,\n          1\n        ],\n        \"semantic_type\": \"\",\n        \"description\": \"\"\n      }\n    },\n    {\n      \"column\": \"Day\",\n      \"properties\": {\n        \"dtype\": \"number\",\n        \"std\": 8,\n        \"min\": 1,\n        \"max\": 31,\n        \"num_unique_values\": 31,\n        \"samples\": [\n          28,\n          16,\n          24\n        ],\n        \"semantic_type\": \"\",\n        \"description\": \"\"\n      }\n    },\n    {\n      \"column\": \"Year\",\n      \"properties\": {\n        \"dtype\": \"number\",\n        \"std\": 2,\n        \"min\": 2010,\n        \"max\": 2017,\n        \"num_unique_values\": 8,\n        \"samples\": [\n          2011,\n          2015,\n          2010\n        ],\n        \"semantic_type\": \"\",\n        \"description\": \"\"\n      }\n    }\n  ]\n}"
            }
          },
          "metadata": {},
          "execution_count": 4
        }
      ]
    },
    {
      "cell_type": "code",
      "metadata": {
        "id": "eN2TP9EblSAU"
      },
      "source": [
        "#copier les donnees pour les conserver et travailler seulement avec la copie\n",
        "model_data = DataFrame"
      ],
      "execution_count": 5,
      "outputs": []
    },
    {
      "cell_type": "code",
      "metadata": {
        "id": "VVn-NhLil-2y",
        "outputId": "cda56040-b89a-494f-9ea3-0a550797e572",
        "colab": {
          "base_uri": "https://localhost:8080/"
        }
      },
      "source": [
        "#standarization des donnees\n",
        "scaler = MinMaxScaler(feature_range=(0, 1))\n",
        "model_data = scaler.fit_transform(model_data)\n",
        "\n",
        "#creer une fonction qui va faire la fraction des donnees en Data_train and DataTest\n",
        "def split_data(df):\n",
        "    train_size = int(len(df) * 0.75)\n",
        "    test_size = len(df) - train_size\n",
        "    train, test = df[0:train_size,:], df[train_size:len(df),:]\n",
        "    return train, test\n",
        "\n",
        "#appel de la fonction \"split data\"\n",
        "train, test = split_data(model_data)\n",
        "print(len(model_data))\n",
        "print(len(train))\n",
        "print(len(test))"
      ],
      "execution_count": 6,
      "outputs": [
        {
          "output_type": "stream",
          "name": "stdout",
          "text": [
            "2922\n",
            "2191\n",
            "731\n"
          ]
        }
      ]
    },
    {
      "cell_type": "code",
      "metadata": {
        "id": "ZF5tRNg1lX7X",
        "outputId": "fdb25b9e-19a6-4b02-a6ad-4b60d4e37d83",
        "colab": {
          "base_uri": "https://localhost:8080/"
        }
      },
      "source": [
        "#creation de lafonction qui va fractionner les donnees Xtrain and Ytrain puis Xtest and Ytest\n",
        "def Split_weekly(df, look_back=7):\n",
        "\tdataX, dataY = [], []\n",
        "\tfor i in range(len(df)-look_back-1):\n",
        "\t\ta = df[i:(i+look_back), 0]\n",
        "\t\tdataX.append(a)\n",
        "\t\tdataY.append(df[i + look_back, 0])\n",
        "\treturn np.array(dataX), np.array(dataY)\n",
        "\n",
        "#Appel de la fonction Split_weekly\n",
        "Xtrain, Ytrain = Split_weekly(train)\n",
        "Xtest, Ytest = Split_weekly(test)\n",
        "\n",
        "print(len(Xtest))\n",
        "print(len(Ytest))\n",
        "\n",
        "print(len(Xtrain))\n",
        "print(len(Ytrain))"
      ],
      "execution_count": 7,
      "outputs": [
        {
          "output_type": "stream",
          "name": "stdout",
          "text": [
            "723\n",
            "723\n",
            "2183\n",
            "2183\n"
          ]
        }
      ]
    },
    {
      "cell_type": "code",
      "metadata": {
        "id": "ODA67-SuoBJA",
        "outputId": "5c920d6b-6886-4002-c6c3-bd11e31c1548",
        "colab": {
          "base_uri": "https://localhost:8080/"
        }
      },
      "source": [
        "#transformer la size des donnees en 3D\n",
        "Xtrain = Xtrain.reshape(Xtrain.shape[0], Xtrain.shape[1], 1)\n",
        "Xtest = Xtest.reshape(Xtest.shape[0], Xtest.shape[1], 1)\n",
        "\n",
        "print(Xtest.shape[:])\n",
        "print(Xtrain.shape[:])\n",
        "\n",
        "model = Sequential()\n",
        "model.add(GRU(units = 8, input_shape=(Xtrain.shape[1], 1), return_sequences=True))\n",
        "model.add(Dropout(0.3))\n",
        "model.add(GRU(units = 16))\n",
        "model.add(Dropout(0.3))#drop out overfetting\n",
        "model.add(Dense(1, activation='sigmoid'))\n",
        "model.compile(optimizer = ops.Nadam(lr=1e-3), loss = 'mse')\n",
        "\n",
        "\n",
        "model_train_GRU = model.fit(Xtrain, Ytrain, validation_split=0.2, epochs=30, batch_size=8, verbose=1)"
      ],
      "execution_count": 8,
      "outputs": [
        {
          "output_type": "stream",
          "name": "stdout",
          "text": [
            "(723, 7, 1)\n",
            "(2183, 7, 1)\n"
          ]
        },
        {
          "output_type": "stream",
          "name": "stderr",
          "text": [
            "WARNING:absl:`lr` is deprecated in Keras optimizer, please use `learning_rate` or use the legacy optimizer, e.g.,tf.keras.optimizers.legacy.Nadam.\n"
          ]
        },
        {
          "output_type": "stream",
          "name": "stdout",
          "text": [
            "Epoch 1/30\n",
            "219/219 [==============================] - 8s 13ms/step - loss: 0.0496 - val_loss: 0.0822\n",
            "Epoch 2/30\n",
            "219/219 [==============================] - 2s 9ms/step - loss: 0.0310 - val_loss: 0.0586\n",
            "Epoch 3/30\n",
            "219/219 [==============================] - 3s 12ms/step - loss: 0.0254 - val_loss: 0.0411\n",
            "Epoch 4/30\n",
            "219/219 [==============================] - 2s 10ms/step - loss: 0.0210 - val_loss: 0.0350\n",
            "Epoch 5/30\n",
            "219/219 [==============================] - 2s 9ms/step - loss: 0.0194 - val_loss: 0.0386\n",
            "Epoch 6/30\n",
            "219/219 [==============================] - 2s 9ms/step - loss: 0.0177 - val_loss: 0.0349\n",
            "Epoch 7/30\n",
            "219/219 [==============================] - 2s 9ms/step - loss: 0.0175 - val_loss: 0.0327\n",
            "Epoch 8/30\n",
            "219/219 [==============================] - 2s 9ms/step - loss: 0.0179 - val_loss: 0.0321\n",
            "Epoch 9/30\n",
            "219/219 [==============================] - 3s 11ms/step - loss: 0.0175 - val_loss: 0.0308\n",
            "Epoch 10/30\n",
            "219/219 [==============================] - 2s 10ms/step - loss: 0.0171 - val_loss: 0.0289\n",
            "Epoch 11/30\n",
            "219/219 [==============================] - 2s 9ms/step - loss: 0.0167 - val_loss: 0.0299\n",
            "Epoch 12/30\n",
            "219/219 [==============================] - 2s 9ms/step - loss: 0.0158 - val_loss: 0.0295\n",
            "Epoch 13/30\n",
            "219/219 [==============================] - 2s 9ms/step - loss: 0.0151 - val_loss: 0.0260\n",
            "Epoch 14/30\n",
            "219/219 [==============================] - 2s 9ms/step - loss: 0.0151 - val_loss: 0.0273\n",
            "Epoch 15/30\n",
            "219/219 [==============================] - 3s 12ms/step - loss: 0.0146 - val_loss: 0.0239\n",
            "Epoch 16/30\n",
            "219/219 [==============================] - 2s 10ms/step - loss: 0.0141 - val_loss: 0.0259\n",
            "Epoch 17/30\n",
            "219/219 [==============================] - 2s 9ms/step - loss: 0.0134 - val_loss: 0.0240\n",
            "Epoch 18/30\n",
            "219/219 [==============================] - 2s 9ms/step - loss: 0.0131 - val_loss: 0.0250\n",
            "Epoch 19/30\n",
            "219/219 [==============================] - 2s 9ms/step - loss: 0.0130 - val_loss: 0.0244\n",
            "Epoch 20/30\n",
            "219/219 [==============================] - 2s 9ms/step - loss: 0.0130 - val_loss: 0.0250\n",
            "Epoch 21/30\n",
            "219/219 [==============================] - 3s 12ms/step - loss: 0.0129 - val_loss: 0.0239\n",
            "Epoch 22/30\n",
            "219/219 [==============================] - 2s 10ms/step - loss: 0.0126 - val_loss: 0.0244\n",
            "Epoch 23/30\n",
            "219/219 [==============================] - 2s 9ms/step - loss: 0.0123 - val_loss: 0.0234\n",
            "Epoch 24/30\n",
            "219/219 [==============================] - 2s 9ms/step - loss: 0.0126 - val_loss: 0.0271\n",
            "Epoch 25/30\n",
            "219/219 [==============================] - 2s 9ms/step - loss: 0.0123 - val_loss: 0.0240\n",
            "Epoch 26/30\n",
            "219/219 [==============================] - 2s 9ms/step - loss: 0.0125 - val_loss: 0.0239\n",
            "Epoch 27/30\n",
            "219/219 [==============================] - 3s 12ms/step - loss: 0.0127 - val_loss: 0.0270\n",
            "Epoch 28/30\n",
            "219/219 [==============================] - 3s 14ms/step - loss: 0.0119 - val_loss: 0.0242\n",
            "Epoch 29/30\n",
            "219/219 [==============================] - 3s 15ms/step - loss: 0.0127 - val_loss: 0.0262\n",
            "Epoch 30/30\n",
            "219/219 [==============================] - 2s 9ms/step - loss: 0.0121 - val_loss: 0.0266\n"
          ]
        }
      ]
    },
    {
      "cell_type": "code",
      "metadata": {
        "id": "FScNCMHz175t"
      },
      "source": [
        "def evaluate_model(model, X, Y):\n",
        "    # Make predictions\n",
        "    predictions = model.predict(X)\n",
        "\n",
        "    # Calculate R^2 score\n",
        "    r2 = r2_score(Y, predictions)\n",
        "\n",
        "    # Calculate mean absolute error\n",
        "    mae = mean_absolute_error(Y, predictions)\n",
        "\n",
        "    return r2, mae\n"
      ],
      "execution_count": 9,
      "outputs": []
    },
    {
      "cell_type": "code",
      "metadata": {
        "id": "Qy8waI0iZDgg",
        "outputId": "0371030c-1da8-4e15-c01f-4cd94f4bb01b",
        "colab": {
          "base_uri": "https://localhost:8080/",
          "height": 425
        }
      },
      "source": [
        "def ploter_Erreur(hist):\n",
        "    f, axarr = plt.subplots(1,1, figsize=(20, 5))\n",
        "\n",
        "    plt.plot(hist.history['loss'])\n",
        "    plt.plot(hist.history['val_loss'])\n",
        "    axarr.set_title('Model loss')\n",
        "    axarr.set_ylabel('Loss')\n",
        "    axarr.set_xlabel('Epoch')\n",
        "    axarr.legend(['Entrainement', 'validation'], loc='upper left')\n",
        "    plt.show()\n",
        "\n",
        "\n",
        "ploter_Erreur(model_train_GRU)"
      ],
      "execution_count": 10,
      "outputs": [
        {
          "output_type": "display_data",
          "data": {
            "text/plain": [
              "<Figure size 2000x500 with 1 Axes>"
            ],
            "image/png": "[encoded data removed]"
          },
          "metadata": {}
        }
      ]
    },
    {
      "cell_type": "code",
      "source": [
        "# # Evaluate model\n",
        "r2_train, mae_train = evaluate_model(model, Xtrain, Ytrain)\n",
        "r2_test, mae_test = evaluate_model(model, Xtest, Ytest)\n",
        "print(\"Train R^2 Score:\", r2_train)\n",
        "print(\"Train MAE:\", mae_train)\n",
        "print(\"Test R^2 Score:\", r2_test)\n",
        "print(\"Test MAE:\", mae_test)"
      ],
      "metadata": {
        "colab": {
          "base_uri": "https://localhost:8080/"
        },
        "id": "n2rWnHBkjHHp",
        "outputId": "e095c3cb-2c90-4188-853a-7da13daa815a"
      },
      "execution_count": 11,
      "outputs": [
        {
          "output_type": "stream",
          "name": "stdout",
          "text": [
            "69/69 [==============================] - 1s 3ms/step\n",
            "23/23 [==============================] - 0s 3ms/step\n",
            "Train R^2 Score: 0.6701287724971636\n",
            "Train MAE: 0.0837986348363443\n",
            "Test R^2 Score: 0.4400114452859408\n",
            "Test MAE: 0.1502655379058502\n"
          ]
        }
      ]
    },
    {
      "cell_type": "markdown",
      "source": [
        "### Now we'll try LSTM"
      ],
      "metadata": {
        "id": "DnQhQHjMHYDv"
      }
    },
    {
      "cell_type": "code",
      "source": [
        "from keras.models import Sequential\n",
        "from keras.layers import LSTM, Dropout, Dense\n",
        "from keras.optimizers import Nadam\n",
        "\n",
        "train, test = split_data(model_data)\n",
        "print(len(model_data))\n",
        "print(len(train))\n",
        "print(len(test))\n",
        "print(\"---------------------------\")\n",
        "Xtrain, Ytrain = Split_weekly(train)\n",
        "Xtest, Ytest = Split_weekly(test)\n",
        "print(len(Xtest))\n",
        "print(len(Ytest))\n",
        "print(\"---------------------------\")\n",
        "print(len(Xtrain))\n",
        "print(len(Ytrain))"
      ],
      "metadata": {
        "colab": {
          "base_uri": "https://localhost:8080/"
        },
        "id": "F6-V9qpDHZ-y",
        "outputId": "59849b59-7570-45e3-ab3d-200ab6774971"
      },
      "execution_count": 12,
      "outputs": [
        {
          "output_type": "stream",
          "name": "stdout",
          "text": [
            "2922\n",
            "2191\n",
            "731\n",
            "---------------------------\n",
            "723\n",
            "723\n",
            "---------------------------\n",
            "2183\n",
            "2183\n"
          ]
        }
      ]
    },
    {
      "cell_type": "code",
      "source": [
        "Xtrain = Xtrain.reshape(Xtrain.shape[0], Xtrain.shape[1], 1)\n",
        "Xtest = Xtest.reshape(Xtest.shape[0], Xtest.shape[1], 1)\n",
        "\n",
        "print(Xtest.shape[:])\n",
        "print(Xtrain.shape[:])\n",
        "\n",
        "model = Sequential()\n",
        "model.add(LSTM(units=8, input_shape=(Xtrain.shape[1], 1), return_sequences=True))\n",
        "model.add(Dropout(0.2))\n",
        "model.add(LSTM(units=16))\n",
        "model.add(Dropout(0.2))  # Dropout to prevent overfitting\n",
        "model.add(Dense(1, activation='sigmoid'))\n",
        "\n",
        "optimizer = Nadam(lr=1e-3)\n",
        "model.compile(optimizer=optimizer, loss='mse')"
      ],
      "metadata": {
        "colab": {
          "base_uri": "https://localhost:8080/"
        },
        "id": "1Fm-CQsoHgFW",
        "outputId": "00429ea5-423d-4b22-a4a6-6b7bb9bbbdbc"
      },
      "execution_count": 44,
      "outputs": [
        {
          "output_type": "stream",
          "name": "stdout",
          "text": [
            "(723, 7, 1)\n",
            "(2183, 7, 1)\n"
          ]
        },
        {
          "output_type": "stream",
          "name": "stderr",
          "text": [
            "WARNING:absl:`lr` is deprecated in Keras optimizer, please use `learning_rate` or use the legacy optimizer, e.g.,tf.keras.optimizers.legacy.Nadam.\n"
          ]
        }
      ]
    },
    {
      "cell_type": "code",
      "source": [
        "model_train_LSTM = model.fit(Xtrain, Ytrain, validation_split=0.2, epochs=100, batch_size=8, verbose=1)"
      ],
      "metadata": {
        "colab": {
          "base_uri": "https://localhost:8080/"
        },
        "id": "mCDInBk2H_af",
        "outputId": "588324c1-4c2f-4430-c55c-d541b25dac16"
      },
      "execution_count": 45,
      "outputs": [
        {
          "output_type": "stream",
          "name": "stdout",
          "text": [
            "Epoch 1/100\n",
            "219/219 [==============================] - 9s 17ms/step - loss: 0.0491 - val_loss: 0.0827\n",
            "Epoch 2/100\n",
            "219/219 [==============================] - 3s 12ms/step - loss: 0.0337 - val_loss: 0.0776\n",
            "Epoch 3/100\n",
            "219/219 [==============================] - 2s 9ms/step - loss: 0.0326 - val_loss: 0.0753\n",
            "Epoch 4/100\n",
            "219/219 [==============================] - 2s 8ms/step - loss: 0.0299 - val_loss: 0.0717\n",
            "Epoch 5/100\n",
            "219/219 [==============================] - 2s 9ms/step - loss: 0.0272 - val_loss: 0.0505\n",
            "Epoch 6/100\n",
            "219/219 [==============================] - 2s 11ms/step - loss: 0.0233 - val_loss: 0.0427\n",
            "Epoch 7/100\n",
            "219/219 [==============================] - 2s 10ms/step - loss: 0.0206 - val_loss: 0.0427\n",
            "Epoch 8/100\n",
            "219/219 [==============================] - 2s 8ms/step - loss: 0.0185 - val_loss: 0.0382\n",
            "Epoch 9/100\n",
            "219/219 [==============================] - 2s 8ms/step - loss: 0.0177 - val_loss: 0.0350\n",
            "Epoch 10/100\n",
            "219/219 [==============================] - 2s 8ms/step - loss: 0.0174 - val_loss: 0.0352\n",
            "Epoch 11/100\n",
            "219/219 [==============================] - 2s 8ms/step - loss: 0.0167 - val_loss: 0.0369\n",
            "Epoch 12/100\n",
            "219/219 [==============================] - 2s 10ms/step - loss: 0.0159 - val_loss: 0.0311\n",
            "Epoch 13/100\n",
            "219/219 [==============================] - 2s 11ms/step - loss: 0.0153 - val_loss: 0.0327\n",
            "Epoch 14/100\n",
            "219/219 [==============================] - 2s 8ms/step - loss: 0.0150 - val_loss: 0.0331\n",
            "Epoch 15/100\n",
            "219/219 [==============================] - 2s 8ms/step - loss: 0.0147 - val_loss: 0.0299\n",
            "Epoch 16/100\n",
            "219/219 [==============================] - 2s 8ms/step - loss: 0.0146 - val_loss: 0.0304\n",
            "Epoch 17/100\n",
            "219/219 [==============================] - 2s 8ms/step - loss: 0.0140 - val_loss: 0.0288\n",
            "Epoch 18/100\n",
            "219/219 [==============================] - 2s 9ms/step - loss: 0.0137 - val_loss: 0.0246\n",
            "Epoch 19/100\n",
            "219/219 [==============================] - 3s 13ms/step - loss: 0.0138 - val_loss: 0.0261\n",
            "Epoch 20/100\n",
            "219/219 [==============================] - 2s 9ms/step - loss: 0.0127 - val_loss: 0.0261\n",
            "Epoch 21/100\n",
            "219/219 [==============================] - 2s 8ms/step - loss: 0.0130 - val_loss: 0.0244\n",
            "Epoch 22/100\n",
            "219/219 [==============================] - 2s 9ms/step - loss: 0.0123 - val_loss: 0.0242\n",
            "Epoch 23/100\n",
            "219/219 [==============================] - 2s 8ms/step - loss: 0.0121 - val_loss: 0.0250\n",
            "Epoch 24/100\n",
            "219/219 [==============================] - 2s 8ms/step - loss: 0.0121 - val_loss: 0.0240\n",
            "Epoch 25/100\n",
            "219/219 [==============================] - 2s 11ms/step - loss: 0.0118 - val_loss: 0.0242\n",
            "Epoch 26/100\n",
            "219/219 [==============================] - 2s 10ms/step - loss: 0.0119 - val_loss: 0.0240\n",
            "Epoch 27/100\n",
            "219/219 [==============================] - 2s 9ms/step - loss: 0.0117 - val_loss: 0.0267\n",
            "Epoch 28/100\n",
            "219/219 [==============================] - 2s 9ms/step - loss: 0.0113 - val_loss: 0.0253\n",
            "Epoch 29/100\n",
            "219/219 [==============================] - 2s 9ms/step - loss: 0.0119 - val_loss: 0.0254\n",
            "Epoch 30/100\n",
            "219/219 [==============================] - 2s 9ms/step - loss: 0.0118 - val_loss: 0.0266\n",
            "Epoch 31/100\n",
            "219/219 [==============================] - 2s 11ms/step - loss: 0.0112 - val_loss: 0.0259\n",
            "Epoch 32/100\n",
            "219/219 [==============================] - 2s 11ms/step - loss: 0.0114 - val_loss: 0.0259\n",
            "Epoch 33/100\n",
            "219/219 [==============================] - 2s 9ms/step - loss: 0.0116 - val_loss: 0.0260\n",
            "Epoch 34/100\n",
            "219/219 [==============================] - 2s 9ms/step - loss: 0.0114 - val_loss: 0.0243\n",
            "Epoch 35/100\n",
            "219/219 [==============================] - 2s 9ms/step - loss: 0.0112 - val_loss: 0.0245\n",
            "Epoch 36/100\n",
            "219/219 [==============================] - 2s 9ms/step - loss: 0.0113 - val_loss: 0.0258\n",
            "Epoch 37/100\n",
            "219/219 [==============================] - 2s 11ms/step - loss: 0.0110 - val_loss: 0.0268\n",
            "Epoch 38/100\n",
            "219/219 [==============================] - 2s 11ms/step - loss: 0.0114 - val_loss: 0.0248\n",
            "Epoch 39/100\n",
            "219/219 [==============================] - 2s 9ms/step - loss: 0.0110 - val_loss: 0.0263\n",
            "Epoch 40/100\n",
            "219/219 [==============================] - 2s 9ms/step - loss: 0.0112 - val_loss: 0.0252\n",
            "Epoch 41/100\n",
            "219/219 [==============================] - 2s 9ms/step - loss: 0.0108 - val_loss: 0.0263\n",
            "Epoch 42/100\n",
            "219/219 [==============================] - 2s 9ms/step - loss: 0.0111 - val_loss: 0.0276\n",
            "Epoch 43/100\n",
            "219/219 [==============================] - 2s 10ms/step - loss: 0.0111 - val_loss: 0.0258\n",
            "Epoch 44/100\n",
            "219/219 [==============================] - 3s 12ms/step - loss: 0.0111 - val_loss: 0.0263\n",
            "Epoch 45/100\n",
            "219/219 [==============================] - 2s 9ms/step - loss: 0.0112 - val_loss: 0.0252\n",
            "Epoch 46/100\n",
            "219/219 [==============================] - 2s 9ms/step - loss: 0.0110 - val_loss: 0.0251\n",
            "Epoch 47/100\n",
            "219/219 [==============================] - 2s 9ms/step - loss: 0.0110 - val_loss: 0.0251\n",
            "Epoch 48/100\n",
            "219/219 [==============================] - 2s 9ms/step - loss: 0.0112 - val_loss: 0.0257\n",
            "Epoch 49/100\n",
            "219/219 [==============================] - 2s 8ms/step - loss: 0.0109 - val_loss: 0.0254\n",
            "Epoch 50/100\n",
            "219/219 [==============================] - 3s 13ms/step - loss: 0.0107 - val_loss: 0.0255\n",
            "Epoch 51/100\n",
            "219/219 [==============================] - 2s 8ms/step - loss: 0.0107 - val_loss: 0.0260\n",
            "Epoch 52/100\n",
            "219/219 [==============================] - 2s 8ms/step - loss: 0.0110 - val_loss: 0.0264\n",
            "Epoch 53/100\n",
            "219/219 [==============================] - 2s 8ms/step - loss: 0.0106 - val_loss: 0.0274\n",
            "Epoch 54/100\n",
            "219/219 [==============================] - 2s 8ms/step - loss: 0.0108 - val_loss: 0.0250\n",
            "Epoch 55/100\n",
            "219/219 [==============================] - 2s 9ms/step - loss: 0.0108 - val_loss: 0.0247\n",
            "Epoch 56/100\n",
            "219/219 [==============================] - 3s 12ms/step - loss: 0.0105 - val_loss: 0.0257\n",
            "Epoch 57/100\n",
            "219/219 [==============================] - 2s 10ms/step - loss: 0.0105 - val_loss: 0.0257\n",
            "Epoch 58/100\n",
            "219/219 [==============================] - 2s 9ms/step - loss: 0.0107 - val_loss: 0.0245\n",
            "Epoch 59/100\n",
            "219/219 [==============================] - 2s 9ms/step - loss: 0.0104 - val_loss: 0.0273\n",
            "Epoch 60/100\n",
            "219/219 [==============================] - 2s 9ms/step - loss: 0.0107 - val_loss: 0.0247\n",
            "Epoch 61/100\n",
            "219/219 [==============================] - 2s 9ms/step - loss: 0.0105 - val_loss: 0.0251\n",
            "Epoch 62/100\n",
            "219/219 [==============================] - 2s 11ms/step - loss: 0.0106 - val_loss: 0.0256\n",
            "Epoch 63/100\n",
            "219/219 [==============================] - 2s 11ms/step - loss: 0.0104 - val_loss: 0.0253\n",
            "Epoch 64/100\n",
            "219/219 [==============================] - 2s 9ms/step - loss: 0.0107 - val_loss: 0.0249\n",
            "Epoch 65/100\n",
            "219/219 [==============================] - 2s 9ms/step - loss: 0.0108 - val_loss: 0.0250\n",
            "Epoch 66/100\n",
            "219/219 [==============================] - 2s 9ms/step - loss: 0.0109 - val_loss: 0.0254\n",
            "Epoch 67/100\n",
            "219/219 [==============================] - 2s 8ms/step - loss: 0.0102 - val_loss: 0.0251\n",
            "Epoch 68/100\n",
            "219/219 [==============================] - 2s 10ms/step - loss: 0.0105 - val_loss: 0.0248\n",
            "Epoch 69/100\n",
            "219/219 [==============================] - 2s 11ms/step - loss: 0.0106 - val_loss: 0.0244\n",
            "Epoch 70/100\n",
            "219/219 [==============================] - 2s 9ms/step - loss: 0.0104 - val_loss: 0.0260\n",
            "Epoch 71/100\n",
            "219/219 [==============================] - 2s 9ms/step - loss: 0.0103 - val_loss: 0.0250\n",
            "Epoch 72/100\n",
            "219/219 [==============================] - 2s 9ms/step - loss: 0.0105 - val_loss: 0.0242\n",
            "Epoch 73/100\n",
            "219/219 [==============================] - 2s 9ms/step - loss: 0.0102 - val_loss: 0.0249\n",
            "Epoch 74/100\n",
            "219/219 [==============================] - 2s 10ms/step - loss: 0.0106 - val_loss: 0.0245\n",
            "Epoch 75/100\n",
            "219/219 [==============================] - 3s 12ms/step - loss: 0.0103 - val_loss: 0.0244\n",
            "Epoch 76/100\n",
            "219/219 [==============================] - 2s 8ms/step - loss: 0.0104 - val_loss: 0.0261\n",
            "Epoch 77/100\n",
            "219/219 [==============================] - 2s 9ms/step - loss: 0.0105 - val_loss: 0.0243\n",
            "Epoch 78/100\n",
            "219/219 [==============================] - 2s 8ms/step - loss: 0.0105 - val_loss: 0.0252\n",
            "Epoch 79/100\n",
            "219/219 [==============================] - 2s 9ms/step - loss: 0.0104 - val_loss: 0.0247\n",
            "Epoch 80/100\n",
            "219/219 [==============================] - 2s 9ms/step - loss: 0.0104 - val_loss: 0.0254\n",
            "Epoch 81/100\n",
            "219/219 [==============================] - 3s 13ms/step - loss: 0.0106 - val_loss: 0.0243\n",
            "Epoch 82/100\n",
            "219/219 [==============================] - 2s 9ms/step - loss: 0.0107 - val_loss: 0.0252\n",
            "Epoch 83/100\n",
            "219/219 [==============================] - 2s 8ms/step - loss: 0.0107 - val_loss: 0.0271\n",
            "Epoch 84/100\n",
            "219/219 [==============================] - 2s 8ms/step - loss: 0.0105 - val_loss: 0.0255\n",
            "Epoch 85/100\n",
            "219/219 [==============================] - 2s 9ms/step - loss: 0.0104 - val_loss: 0.0252\n",
            "Epoch 86/100\n",
            "219/219 [==============================] - 2s 9ms/step - loss: 0.0104 - val_loss: 0.0254\n",
            "Epoch 87/100\n",
            "219/219 [==============================] - 2s 11ms/step - loss: 0.0101 - val_loss: 0.0251\n",
            "Epoch 88/100\n",
            "219/219 [==============================] - 2s 10ms/step - loss: 0.0104 - val_loss: 0.0242\n",
            "Epoch 89/100\n",
            "219/219 [==============================] - 2s 9ms/step - loss: 0.0104 - val_loss: 0.0247\n",
            "Epoch 90/100\n",
            "219/219 [==============================] - 2s 9ms/step - loss: 0.0106 - val_loss: 0.0252\n",
            "Epoch 91/100\n",
            "219/219 [==============================] - 2s 9ms/step - loss: 0.0103 - val_loss: 0.0259\n",
            "Epoch 92/100\n",
            "219/219 [==============================] - 2s 8ms/step - loss: 0.0104 - val_loss: 0.0252\n",
            "Epoch 93/100\n",
            "219/219 [==============================] - 2s 11ms/step - loss: 0.0104 - val_loss: 0.0255\n",
            "Epoch 94/100\n",
            "219/219 [==============================] - 2s 11ms/step - loss: 0.0103 - val_loss: 0.0251\n",
            "Epoch 95/100\n",
            "219/219 [==============================] - 2s 8ms/step - loss: 0.0107 - val_loss: 0.0248\n",
            "Epoch 96/100\n",
            "219/219 [==============================] - 2s 9ms/step - loss: 0.0104 - val_loss: 0.0250\n",
            "Epoch 97/100\n",
            "219/219 [==============================] - 2s 9ms/step - loss: 0.0101 - val_loss: 0.0251\n",
            "Epoch 98/100\n",
            "219/219 [==============================] - 2s 9ms/step - loss: 0.0104 - val_loss: 0.0242\n",
            "Epoch 99/100\n",
            "219/219 [==============================] - 2s 10ms/step - loss: 0.0103 - val_loss: 0.0235\n",
            "Epoch 100/100\n",
            "219/219 [==============================] - 3s 12ms/step - loss: 0.0104 - val_loss: 0.0254\n"
          ]
        }
      ]
    },
    {
      "cell_type": "code",
      "source": [
        "ploter_Erreur(model_train_LSTM)"
      ],
      "metadata": {
        "colab": {
          "base_uri": "https://localhost:8080/",
          "height": 425
        },
        "id": "pdcBXjP8IMKv",
        "outputId": "f5851399-ef28-448b-dacf-2ce73fe4b42c"
      },
      "execution_count": 46,
      "outputs": [
        {
          "output_type": "display_data",
          "data": {
            "text/plain": [
              "<Figure size 2000x500 with 1 Axes>"
            ],
            "image/png": "[encoded data removed]"
          },
          "metadata": {}
        }
      ]
    },
    {
      "cell_type": "code",
      "source": [
        "# # Evaluate model\n",
        "r2_train, mae_train = evaluate_model(model, Xtrain, Ytrain)\n",
        "r2_test, mae_test = evaluate_model(model, Xtest, Ytest)\n",
        "print(\"Train R^2 Score:\", r2_train)\n",
        "print(\"Train MAE:\", mae_train)\n",
        "print(\"Test R^2 Score:\", r2_test)\n",
        "print(\"Test MAE:\", mae_test)"
      ],
      "metadata": {
        "colab": {
          "base_uri": "https://localhost:8080/"
        },
        "id": "LpLPBet5WvRo",
        "outputId": "bd0b08be-122a-419b-8908-8915be75f316"
      },
      "execution_count": 16,
      "outputs": [
        {
          "output_type": "stream",
          "name": "stdout",
          "text": [
            "69/69 [==============================] - 1s 3ms/step\n",
            "23/23 [==============================] - 0s 3ms/step\n",
            "Train R^2 Score: 0.6896115051512535\n",
            "Train MAE: 0.0811329261620698\n",
            "Test R^2 Score: 0.4530201769761394\n",
            "Test MAE: 0.1478863352326698\n"
          ]
        }
      ]
    },
    {
      "cell_type": "markdown",
      "source": [
        "\n",
        "### Using Transformers"
      ],
      "metadata": {
        "id": "1SrYfz5ClfEH"
      }
    },
    {
      "cell_type": "code",
      "source": [
        "from transformers import TimeSeriesTransformerForPrediction"
      ],
      "metadata": {
        "id": "xR91pYDKr0E6"
      },
      "execution_count": 17,
      "outputs": []
    },
    {
      "cell_type": "code",
      "source": [
        "class TimeSeriesTokenizer:\n",
        "  def __init__(self, seq_len):\n",
        "    self.seq_len = seq_len  # Maximum sequence length\n",
        "\n",
        "  def tokenize(self, data):\n",
        "    \"\"\"\n",
        "    This function takes a time series data point and converts it into a sequence of tokens.\n",
        "\n",
        "    Args:\n",
        "      data: A single data point from your time series (e.g., a NumPy array or list).\n",
        "\n",
        "    Returns:\n",
        "      A list of tokens representing the data point.\n",
        "    \"\"\"\n",
        "\n",
        "    # Adjust this logic based on the format of your data\n",
        "    tokens = data.tolist()  # Assuming data is a NumPy array or list\n",
        "\n",
        "    # Handle missing values (if applicable)\n",
        "    # You can replace missing values with a special token or pad with zeros\n",
        "    # ... (code for handling missing values)\n",
        "\n",
        "    # Pad or truncate the sequence to the desired length\n",
        "    if len(tokens) < self.seq_len:\n",
        "      tokens.extend([0] * (self.seq_len - len(tokens)))  # Pad with zeros\n",
        "    elif len(tokens) > self.seq_len:\n",
        "      tokens = tokens[:self.seq_len]  # Truncate\n",
        "\n",
        "    return tokens\n",
        "\n",
        "# # Example usage\n",
        "# tokenizer = TimeSeriesTokenizer(seq_len=50)  # Adjust sequence length as needed\n",
        "# tokenized_data = tokenizer.tokenize(model_data[0])  # Assuming data is an array of time series points\n",
        "\n",
        "# print(tokenized_data)\n"
      ],
      "metadata": {
        "id": "Hjd4nbkCuQ8U"
      },
      "execution_count": 18,
      "outputs": []
    },
    {
      "cell_type": "code",
      "source": [
        "!pip install keras"
      ],
      "metadata": {
        "colab": {
          "base_uri": "https://localhost:8080/"
        },
        "id": "4QcjCODczdL5",
        "outputId": "ce24ddcd-e05b-4d13-94df-d2b29ca1e261"
      },
      "execution_count": 19,
      "outputs": [
        {
          "output_type": "stream",
          "name": "stdout",
          "text": [
            "Requirement already satisfied: keras in /usr/local/lib/python3.10/dist-packages (2.15.0)\n"
          ]
        }
      ]
    },
    {
      "cell_type": "code",
      "source": [
        "import pandas as pd\n",
        "import numpy as np\n",
        "import tensorflow as tf\n",
        "from keras.layers import Input, Dense\n",
        "from keras.models import Model\n",
        "from keras import layers\n",
        "\n",
        "#transformer la size des donnees en 3D\n",
        "Xtrain = Xtrain.reshape(Xtrain.shape[0], Xtrain.shape[1], 1)\n",
        "Xtest = Xtest.reshape(Xtest.shape[0], Xtest.shape[1], 1)\n",
        "\n",
        "print(Xtest.shape[:])\n",
        "print(Xtrain.shape[:])\n"
      ],
      "metadata": {
        "colab": {
          "base_uri": "https://localhost:8080/"
        },
        "id": "-wLLMyeRlh6o",
        "outputId": "4a9484c6-5ab8-4f60-ddc3-8223394e484f"
      },
      "execution_count": 20,
      "outputs": [
        {
          "output_type": "stream",
          "name": "stdout",
          "text": [
            "(723, 7, 1)\n",
            "(2183, 7, 1)\n"
          ]
        }
      ]
    },
    {
      "cell_type": "code",
      "source": [
        "!pip install tensorflow-addons"
      ],
      "metadata": {
        "colab": {
          "base_uri": "https://localhost:8080/"
        },
        "id": "vk5UxBDS1nob",
        "outputId": "a5575375-7b64-4b43-dc90-5f0456bb3e4a"
      },
      "execution_count": 21,
      "outputs": [
        {
          "output_type": "stream",
          "name": "stdout",
          "text": [
            "Collecting tensorflow-addons\n",
            "  Downloading tensorflow_addons-0.23.0-cp310-cp310-manylinux_2_17_x86_64.manylinux2014_x86_64.whl (611 kB)\n",
            "\u001b[2K     \u001b[90m━━━━━━━━━━━━━━━━━━━━━━━━━━━━━━━━━━━━━━━━\u001b[0m \u001b[32m611.8/611.8 kB\u001b[0m \u001b[31m5.7 MB/s\u001b[0m eta \u001b[36m0:00:00\u001b[0m\n",
            "\u001b[?25hRequirement already satisfied: packaging in /usr/local/lib/python3.10/dist-packages (from tensorflow-addons) (24.0)\n",
            "Collecting typeguard<3.0.0,>=2.7 (from tensorflow-addons)\n",
            "  Downloading typeguard-2.13.3-py3-none-any.whl (17 kB)\n",
            "Installing collected packages: typeguard, tensorflow-addons\n",
            "Successfully installed tensorflow-addons-0.23.0 typeguard-2.13.3\n"
          ]
        }
      ]
    },
    {
      "cell_type": "code",
      "source": [
        "import pandas as pd\n",
        "import numpy as np\n",
        "import tensorflow as tf\n",
        "from keras.layers import Input, Dense\n",
        "from keras.models import Model\n",
        "from keras import layers\n",
        "\n",
        "# Define the Transformer layer\n",
        "class TransformerLayer(tf.keras.layers.Layer):\n",
        "    def __init__(self, num_heads, ff_dim, dropout_rate=0.1, **kwargs):\n",
        "        super().__init__(**kwargs)\n",
        "        self.att = tf.keras.layers.MultiHeadAttention(num_heads=num_heads, key_dim=1)\n",
        "        self.ffn = tf.keras.Sequential([\n",
        "            tf.keras.layers.Dense(ff_dim, activation='relu'),\n",
        "            tf.keras.layers.Dense(16),\n",
        "            tf.keras.layers.Dense(8)\n",
        "        ])\n",
        "        self.layernorm1 = tf.keras.layers.LayerNormalization(epsilon=1e-6)\n",
        "        self.layernorm2 = tf.keras.layers.LayerNormalization(epsilon=1e-6)\n",
        "        self.dropout1 = tf.keras.layers.Dropout(dropout_rate)\n",
        "        self.dropout2 = tf.keras.layers.Dropout(dropout_rate)\n",
        "\n",
        "    def call(self, inputs, training=False):\n",
        "        attn_output = self.att(inputs, inputs)\n",
        "        attn_output = self.dropout1(attn_output, training=training)\n",
        "        out1 = self.layernorm1(inputs + attn_output)\n",
        "        ffn_output = self.ffn(out1)\n",
        "        ffn_output = self.dropout2(ffn_output, training=training)\n",
        "        return self.layernorm2(out1 + ffn_output)\n",
        "\n",
        "\n",
        "# Define the input shape\n",
        "input_shape = (7, 1)\n",
        "\n",
        "# Define the Transformer model with Encoders and Decoders\n",
        "inputs = Input(shape=input_shape)\n",
        "transformer_block = TransformerLayer(num_heads=3, ff_dim=32, dropout_rate=0.2)\n",
        "x = transformer_block(inputs)\n",
        "x = Dense(1)(x)  # Adjust output dimension as needed\n",
        "\n",
        "# Create the model\n",
        "model = Model(inputs=inputs, outputs=x)\n",
        "\n",
        "# Compile the model\n",
        "model.compile(optimizer='adam', loss='mean_squared_error')\n",
        "\n",
        "# Train the model\n",
        "model_train_Transformers = model.fit(Xtrain, Ytrain, validation_split=0.2, epochs=50, batch_size=8, verbose=1)\n",
        "# model.fit(Xtrain, epochs=100, batch_size=32)\n",
        "\n",
        "# # Make predictions on the test set\n",
        "# predictions = model.predict(test_df)\n",
        "\n",
        "# # Evaluate the model\n",
        "# mse = model.evaluate(test_df, verbose=0)\n",
        "# print(f'Mean Squared Error: {mse}')"
      ],
      "metadata": {
        "colab": {
          "base_uri": "https://localhost:8080/"
        },
        "id": "dDLBLipA1vE_",
        "outputId": "11bd8793-373a-42fa-e9f9-4b0dc84e29a9"
      },
      "execution_count": 49,
      "outputs": [
        {
          "output_type": "stream",
          "name": "stdout",
          "text": [
            "Epoch 1/50\n",
            "219/219 [==============================] - 4s 8ms/step - loss: 0.1734 - val_loss: 0.0593\n",
            "Epoch 2/50\n",
            "219/219 [==============================] - 1s 5ms/step - loss: 0.0567 - val_loss: 0.0686\n",
            "Epoch 3/50\n",
            "219/219 [==============================] - 1s 4ms/step - loss: 0.0459 - val_loss: 0.0871\n",
            "Epoch 4/50\n",
            "219/219 [==============================] - 1s 4ms/step - loss: 0.0421 - val_loss: 0.0732\n",
            "Epoch 5/50\n",
            "219/219 [==============================] - 1s 4ms/step - loss: 0.0418 - val_loss: 0.0818\n",
            "Epoch 6/50\n",
            "219/219 [==============================] - 1s 4ms/step - loss: 0.0381 - val_loss: 0.0694\n",
            "Epoch 7/50\n",
            "219/219 [==============================] - 1s 4ms/step - loss: 0.0380 - val_loss: 0.0733\n",
            "Epoch 8/50\n",
            "219/219 [==============================] - 1s 5ms/step - loss: 0.0380 - val_loss: 0.0663\n",
            "Epoch 9/50\n",
            "219/219 [==============================] - 1s 5ms/step - loss: 0.0379 - val_loss: 0.0798\n",
            "Epoch 10/50\n",
            "219/219 [==============================] - 1s 6ms/step - loss: 0.0358 - val_loss: 0.0730\n",
            "Epoch 11/50\n",
            "219/219 [==============================] - 1s 4ms/step - loss: 0.0359 - val_loss: 0.0599\n",
            "Epoch 12/50\n",
            "219/219 [==============================] - 1s 4ms/step - loss: 0.0358 - val_loss: 0.0768\n",
            "Epoch 13/50\n",
            "219/219 [==============================] - 1s 4ms/step - loss: 0.0354 - val_loss: 0.0824\n",
            "Epoch 14/50\n",
            "219/219 [==============================] - 1s 4ms/step - loss: 0.0356 - val_loss: 0.0739\n",
            "Epoch 15/50\n",
            "219/219 [==============================] - 1s 4ms/step - loss: 0.0354 - val_loss: 0.0735\n",
            "Epoch 16/50\n",
            "219/219 [==============================] - 1s 4ms/step - loss: 0.0353 - val_loss: 0.0613\n",
            "Epoch 17/50\n",
            "219/219 [==============================] - 1s 4ms/step - loss: 0.0349 - val_loss: 0.0685\n",
            "Epoch 18/50\n",
            "219/219 [==============================] - 1s 4ms/step - loss: 0.0343 - val_loss: 0.0761\n",
            "Epoch 19/50\n",
            "219/219 [==============================] - 1s 4ms/step - loss: 0.0346 - val_loss: 0.0793\n",
            "Epoch 20/50\n",
            "219/219 [==============================] - 1s 3ms/step - loss: 0.0339 - val_loss: 0.0673\n",
            "Epoch 21/50\n",
            "219/219 [==============================] - 1s 3ms/step - loss: 0.0338 - val_loss: 0.0799\n",
            "Epoch 22/50\n",
            "219/219 [==============================] - 1s 4ms/step - loss: 0.0339 - val_loss: 0.0797\n",
            "Epoch 23/50\n",
            "219/219 [==============================] - 1s 6ms/step - loss: 0.0344 - val_loss: 0.0701\n",
            "Epoch 24/50\n",
            "219/219 [==============================] - 1s 6ms/step - loss: 0.0341 - val_loss: 0.0842\n",
            "Epoch 25/50\n",
            "219/219 [==============================] - 1s 4ms/step - loss: 0.0337 - val_loss: 0.0686\n",
            "Epoch 26/50\n",
            "219/219 [==============================] - 1s 4ms/step - loss: 0.0339 - val_loss: 0.0708\n",
            "Epoch 27/50\n",
            "219/219 [==============================] - 1s 4ms/step - loss: 0.0336 - val_loss: 0.0692\n",
            "Epoch 28/50\n",
            "219/219 [==============================] - 1s 4ms/step - loss: 0.0335 - val_loss: 0.0780\n",
            "Epoch 29/50\n",
            "219/219 [==============================] - 1s 4ms/step - loss: 0.0336 - val_loss: 0.0881\n",
            "Epoch 30/50\n",
            "219/219 [==============================] - 1s 4ms/step - loss: 0.0337 - val_loss: 0.0752\n",
            "Epoch 31/50\n",
            "219/219 [==============================] - 1s 4ms/step - loss: 0.0337 - val_loss: 0.0716\n",
            "Epoch 32/50\n",
            "219/219 [==============================] - 1s 4ms/step - loss: 0.0333 - val_loss: 0.0659\n",
            "Epoch 33/50\n",
            "219/219 [==============================] - 1s 4ms/step - loss: 0.0334 - val_loss: 0.0733\n",
            "Epoch 34/50\n",
            "219/219 [==============================] - 1s 4ms/step - loss: 0.0332 - val_loss: 0.0840\n",
            "Epoch 35/50\n",
            "219/219 [==============================] - 1s 4ms/step - loss: 0.0335 - val_loss: 0.0787\n",
            "Epoch 36/50\n",
            "219/219 [==============================] - 1s 4ms/step - loss: 0.0336 - val_loss: 0.0792\n",
            "Epoch 37/50\n",
            "219/219 [==============================] - 1s 6ms/step - loss: 0.0333 - val_loss: 0.0837\n",
            "Epoch 38/50\n",
            "219/219 [==============================] - 1s 6ms/step - loss: 0.0332 - val_loss: 0.0766\n",
            "Epoch 39/50\n",
            "219/219 [==============================] - 1s 4ms/step - loss: 0.0333 - val_loss: 0.0782\n",
            "Epoch 40/50\n",
            "219/219 [==============================] - 1s 4ms/step - loss: 0.0333 - val_loss: 0.0752\n",
            "Epoch 41/50\n",
            "219/219 [==============================] - 1s 4ms/step - loss: 0.0333 - val_loss: 0.0848\n",
            "Epoch 42/50\n",
            "219/219 [==============================] - 1s 4ms/step - loss: 0.0335 - val_loss: 0.0747\n",
            "Epoch 43/50\n",
            "219/219 [==============================] - 1s 4ms/step - loss: 0.0333 - val_loss: 0.0771\n",
            "Epoch 44/50\n",
            "219/219 [==============================] - 1s 4ms/step - loss: 0.0334 - val_loss: 0.0764\n",
            "Epoch 45/50\n",
            "219/219 [==============================] - 1s 4ms/step - loss: 0.0335 - val_loss: 0.0749\n",
            "Epoch 46/50\n",
            "219/219 [==============================] - 1s 4ms/step - loss: 0.0331 - val_loss: 0.0665\n",
            "Epoch 47/50\n",
            "219/219 [==============================] - 1s 4ms/step - loss: 0.0333 - val_loss: 0.0766\n",
            "Epoch 48/50\n",
            "219/219 [==============================] - 1s 4ms/step - loss: 0.0334 - val_loss: 0.0721\n",
            "Epoch 49/50\n",
            "219/219 [==============================] - 1s 4ms/step - loss: 0.0332 - val_loss: 0.0779\n",
            "Epoch 50/50\n",
            "219/219 [==============================] - 1s 4ms/step - loss: 0.0335 - val_loss: 0.0723\n"
          ]
        }
      ]
    },
    {
      "cell_type": "code",
      "source": [
        "ploter_Erreur(model_train_Transformers)"
      ],
      "metadata": {
        "colab": {
          "base_uri": "https://localhost:8080/",
          "height": 425
        },
        "id": "O_1Qjm2v0if1",
        "outputId": "2ac5b83f-633d-4e5a-cc6f-de1222191762"
      },
      "execution_count": 50,
      "outputs": [
        {
          "output_type": "display_data",
          "data": {
            "text/plain": [
              "<Figure size 2000x500 with 1 Axes>"
            ],
            "image/png": "[encoded data removed]"
          },
          "metadata": {}
        }
      ]
    },
    {
      "cell_type": "code",
      "source": [
        "# Evaluate the model on the test set\n",
        "mse = model.evaluate(Xtest, Ytest, verbose=0)\n",
        "print(f'Mean Squared Error on Test Set: {mse}')\n",
        "\n"
      ],
      "metadata": {
        "colab": {
          "base_uri": "https://localhost:8080/"
        },
        "id": "a32trtsel7ue",
        "outputId": "f0b3f020-56dc-4b92-cfd0-0f00b18bc937"
      },
      "execution_count": 53,
      "outputs": [
        {
          "output_type": "stream",
          "name": "stdout",
          "text": [
            "Mean Squared Error on Test Set: 0.10139619559049606\n"
          ]
        }
      ]
    }
  ]
}